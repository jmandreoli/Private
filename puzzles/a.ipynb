{
 "cells": [
  {
   "cell_type": "markdown",
   "metadata": {},
   "source": [
    "## Un problème de logique\n",
    "Une personne choisit deux nombres entiers $x$ et $y$ compris entre 2 et 99 et dit à une personne **P** la valeur de $xy$ et à une personne **S** la valeur de $x + y$. Il s’ensuit la conversation suivante entre **P** et **S**:\n",
    "* **P** : Je ne connais pas les nombres $x$ et $y$.\n",
    "* **S** : Je savais déjà que vous ne les connaissiez pas.\n",
    "* **P** : Maintenant je connais les nombres $x$ et $y$.\n",
    "* **S** : Maintenant je les connais aussi.\n",
    "\n",
    "Quelles sont les valeurs des deux nombres $x,y$ ?"
   ]
  },
  {
   "cell_type": "code",
   "execution_count": 1,
   "metadata": {
    "collapsed": true
   },
   "outputs": [],
   "source": [
    "def solution():\n",
    "    from collections import defaultdict\n",
    "    a = [(x,y) for x in range(2,100) for y in range(x,100)]\n",
    "    print('|E| =',len(a),end='\\t')\n",
    "    p = defaultdict(int); s = defaultdict(list)\n",
    "    for u,v in a: p[u*v] += 1; s[u+v].append((u,v))\n",
    "    print('|E1|=',sum(n for n in p.values() if n>1),end='\\t')\n",
    "    a = sum((l for l in s.values() if all(p[u*v]>1 for u,v in l)),[])\n",
    "    print('|E2|=',len(a),end='\\t')\n",
    "    p = defaultdict(int)\n",
    "    for u,v in a: p[u*v] += 1\n",
    "    a = [(x,y) for x,y in a if p[x*y] == 1]\n",
    "    print('|E3|=',len(a),end='\\t')\n",
    "    s = defaultdict(int)\n",
    "    for u,v in a: s[u+v] += 1\n",
    "    a = [(x,y) for x,y in a if s[x+y] == 1]\n",
    "    print('E4=',set(a))"
   ]
  },
  {
   "cell_type": "code",
   "execution_count": 2,
   "metadata": {
    "collapsed": false
   },
   "outputs": [
    {
     "name": "stdout",
     "output_type": "stream",
     "text": [
      "|E| = 4851\t|E1|= 3076\t|E2|= 145\t|E3|= 86\tE4= {(4, 13)}\n"
     ]
    }
   ],
   "source": [
    "solution()"
   ]
  },
  {
   "cell_type": "code",
   "execution_count": null,
   "metadata": {
    "collapsed": true
   },
   "outputs": [],
   "source": []
  }
 ],
 "metadata": {
  "kernelspec": {
   "display_name": "Python 3",
   "language": "python",
   "name": "python3"
  },
  "language_info": {
   "codemirror_mode": {
    "name": "ipython",
    "version": 3
   },
   "file_extension": ".py",
   "mimetype": "text/x-python",
   "name": "python",
   "nbconvert_exporter": "python",
   "pygments_lexer": "ipython3",
   "version": "3.5.1"
  }
 },
 "nbformat": 4,
 "nbformat_minor": 0
}
